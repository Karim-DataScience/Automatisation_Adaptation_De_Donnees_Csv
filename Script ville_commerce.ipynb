{
 "cells": [
  {
   "cell_type": "code",
   "execution_count": null,
   "id": "860170dd",
   "metadata": {},
   "outputs": [],
   "source": [
    "import pandas as pd"
   ]
  },
  {
   "cell_type": "code",
   "execution_count": null,
   "id": "aabca2b4",
   "metadata": {},
   "outputs": [],
   "source": [
    "with open('ville_commerce.csv') as f:\n",
    "    encoding = f.encoding\n",
    "df = pd.read_csv(\"ville_commerce.csv\",sep=\";\", encoding= encoding)\n"
   ]
  },
  {
   "cell_type": "code",
   "execution_count": null,
   "id": "388e7732",
   "metadata": {},
   "outputs": [],
   "source": [
    "# Sélectionner la colonne à répéter\n",
    "colonne_a_repeater = df[\"id_departement\"]\n",
    "dep = pd.DataFrame()\n",
    "# Répéter chaque élément de la colonne x fois\n",
    "dep[\"id_departement\"] = colonne_a_repeater.repeat(23)\n",
    "\n",
    "# Sélectionner la colonne à répéter\n",
    "colonne_a_repeater = df[\"annee\"]\n",
    "an = pd.DataFrame()\n",
    "# Répéter chaque élément de la colonne x fois\n",
    "an[\"annee\"] = colonne_a_repeater.repeat(23)\n",
    "\n",
    "# Sélectionner la colonne à répéter\n",
    "colonne_a_repeater = df[\"libelle_de_commune\"]\n",
    "com = pd.DataFrame()\n",
    "# Répéter chaque élément de la colonne x fois\n",
    "com[\"libelle_de_commune\"] = colonne_a_repeater.repeat(23)\n",
    "\n",
    "# Sélectionner la colonne à répéter\n",
    "colonne_a_repeater = df[\"population\"]\n",
    "pop = pd.DataFrame()\n",
    "# Répéter chaque élément de la colonne x fois\n",
    "pop[\"population\"] = colonne_a_repeater.repeat(23)"
   ]
  },
  {
   "cell_type": "code",
   "execution_count": null,
   "id": "65c62824",
   "metadata": {},
   "outputs": [],
   "source": [
    "principal = pd.concat([dep,com,an,pop], ignore_index=False, axis = 1)\n",
    "principal"
   ]
  },
  {
   "cell_type": "code",
   "execution_count": null,
   "id": "d32f9475",
   "metadata": {},
   "outputs": [],
   "source": [
    "Commerce = [\"hypermarche\", \"supermarche\", \"grande_surface_de_bricolage\", \"superette\", \"epicerie\", \"boulangerie\", \"boucherie_charcuterie\", \"produits_surgeles\", \"poissonnerie\", \"librairie_papeterie_journaux\", \"magasin_de_vetements\", \"magasin_d_equipements_du_foyer\", \"magasin_de_chaussures\", \"magasin_d_electromenager_et_de_mat_audio_video\", \"magasin_de_meubles\", \"magasin_d_articles_de_sports_et_de_loisirs\", \"magasin_de_revetements_murs_et_sols\", \"droguerie_quincaillerie_bricolage\", \"parfumerie\", \"horlogerie_bijouterie\", \"fleuriste\", \"magasin_d_optique\", \"station_service\"]\n",
    "Nbrs_Commerce = pd.DataFrame()\n",
    "Nbrs_Commerce[\"Nbrs_Commerce\"] = pd.concat([df[col] for col in Commerce], axis=0)"
   ]
  },
  {
   "cell_type": "code",
   "execution_count": null,
   "id": "08a08b36",
   "metadata": {
    "scrolled": false
   },
   "outputs": [],
   "source": [
    "display(Nbrs_Commerce)"
   ]
  },
  {
   "cell_type": "markdown",
   "id": "6903f327",
   "metadata": {},
   "source": [
    "La case suivante, vas créer la colonne \"Type de Magasin\", pour les 33800*23, soit 777 400 lignes:"
   ]
  },
  {
   "cell_type": "code",
   "execution_count": null,
   "id": "fc25e9f6",
   "metadata": {},
   "outputs": [],
   "source": [
    "val_list = [\"hypermarche\", \"supermarche\", \"grande_surface_de_bricolage\", \"superette\", \"epicerie\", \"boulangerie\", \"boucherie_charcuterie\", \"produits_surgeles\", \"poissonnerie\", \"librairie_papeterie_journaux\", \"magasin_de_vetements\", \"magasin_d_equipements_du_foyer\", \"magasin_de_chaussures\", \"magasin_d_electromenager_et_de_mat_audio_video\", \"magasin_de_meubles\", \"magasin_d_articles_de_sports_et_de_loisirs\", \"magasin_de_revetements_murs_et_sols\", \"droguerie_quincaillerie_bricolage\", \"parfumerie\", \"horlogerie_bijouterie\", \"fleuriste\", \"magasin_d_optique\", \"station_service\"]\n",
    "for i in range(23):\n",
    "    locals()[\"df\" + str(i)] = pd.DataFrame({'Type de Magasin': [val_list[i]] * 33800})\n",
    "result = pd.concat([df0, df1, df2, df3,df4,df5,df6,df7,df8,df9,df10,df11,df12,df13,df14,df15,df16,df17,df18,df19,df20,df21,df22], ignore_index=True)"
   ]
  },
  {
   "cell_type": "code",
   "execution_count": null,
   "id": "6c281c65",
   "metadata": {},
   "outputs": [],
   "source": [
    "result"
   ]
  },
  {
   "cell_type": "code",
   "execution_count": null,
   "id": "a6c18b3d",
   "metadata": {},
   "outputs": [],
   "source": [
    "principal = principal.reset_index(drop=True)\n",
    "Nbrs_Commerce = Nbrs_Commerce.reset_index(drop=True)\n",
    "result = result.reset_index(drop=True)\n",
    "merged_df = pd.concat([principal, Nbrs_Commerce, result], axis=1)\n",
    "merged_df.to_csv('mains.csv', index=False)"
   ]
  },
  {
   "cell_type": "code",
   "execution_count": null,
   "id": "5cace182",
   "metadata": {},
   "outputs": [],
   "source": [
    "with open('mains.csv') as f:\n",
    "    encoding = f.encoding\n",
    "dbz = pd.read_csv(\"mains.csv\")\n",
    "dbz"
   ]
  }
 ],
 "metadata": {
  "kernelspec": {
   "display_name": "Python 3 (ipykernel)",
   "language": "python",
   "name": "python3"
  },
  "language_info": {
   "codemirror_mode": {
    "name": "ipython",
    "version": 3
   },
   "file_extension": ".py",
   "mimetype": "text/x-python",
   "name": "python",
   "nbconvert_exporter": "python",
   "pygments_lexer": "ipython3",
   "version": "3.9.13"
  }
 },
 "nbformat": 4,
 "nbformat_minor": 5
}
